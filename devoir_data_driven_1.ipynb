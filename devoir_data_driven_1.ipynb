{
 "cells": [
  {
   "cell_type": "markdown",
   "id": "ee2b085a-a5d0-457c-a5d7-a1cca5668b18",
   "metadata": {},
   "source": [
    "# Exercices sur la Structure de Contrôle if et Opérateurs Logiques/Comparaisons"
   ]
  },
  {
   "cell_type": "markdown",
   "id": "dc64b1cf-9c1f-4d9a-a818-ee8d6a5b2a1e",
   "metadata": {},
   "source": [
    "### Exercice 1: Pair ou Impair\n",
    "Écrivez une fonction est_pair(n) qui prend un nombre n en entrée et retourne:\n",
    "- **True** si le nombre est pair, sinon **False**. \n",
    "- Utilisez une structure if pour effectuer la vérification."
   ]
  },
  {
   "cell_type": "code",
   "execution_count": 6,
   "id": "2a375769-3341-4e12-aadb-c9244c14f477",
   "metadata": {},
   "outputs": [],
   "source": [
    "def est_pair (n):\n",
    "    if n % 2 == 0:\n",
    "        print(\"true\")\n",
    "    else:\n",
    "        print(\"false\")"
   ]
  },
  {
   "cell_type": "code",
   "execution_count": 7,
   "id": "6f8bfd83",
   "metadata": {},
   "outputs": [
    {
     "name": "stdout",
     "output_type": "stream",
     "text": [
      "false\n",
      "true\n"
     ]
    }
   ],
   "source": [
    "est_pair(5)\n",
    "est_pair(6)"
   ]
  },
  {
   "cell_type": "markdown",
   "id": "6eadd3c9-e932-43f0-ad66-2fbc196391b6",
   "metadata": {},
   "source": [
    "### Exercice 2: Vérification de l'âge\n",
    "Écrivez un programme qui demande à l'utilisateur de saisir son âge. \n",
    "- Utilisez if pour vérifier si l'âge est supérieur ou égal à 18. \n",
    "- Affichez \"Majeur\" si c'est vrai, sinon affichez \"Mineur\".\n"
   ]
  },
  {
   "cell_type": "code",
   "execution_count": 8,
   "id": "a90a7bb0-8f02-442d-8de4-3ad1dca876f4",
   "metadata": {},
   "outputs": [
    {
     "name": "stdout",
     "output_type": "stream",
     "text": [
      "veuillez écrire votre age20\n",
      "Majeur\n"
     ]
    }
   ],
   "source": [
    "age = float(input(\"veuillez écrire votre age\"))\n",
    "if (age >= 18 ):\n",
    "    print(\"Majeur\")\n",
    "else:\n",
    "    print(\"Mineur\")"
   ]
  },
  {
   "cell_type": "markdown",
   "id": "e9608848-cafe-408a-805c-e66235373040",
   "metadata": {},
   "source": [
    "### Exercice 3: Comparaison de deux nombres\n",
    "- Créez une fonction comparer(x, y) qui prend deux nombres x et y et retourne :\n",
    "- \"x est plus grand\",\n",
    "- \"y est plus grand\",\n",
    "- ou \"x et y sont égaux\" selon le cas.\n"
   ]
  },
  {
   "cell_type": "code",
   "execution_count": 9,
   "id": "69106e07-e7bf-4e9f-a63d-c51240eb4ac8",
   "metadata": {},
   "outputs": [],
   "source": [
    "def comparer (x,y):\n",
    "    if x > y:\n",
    "        print(\" x est le plus grand\")\n",
    "    elif y > x :\n",
    "        print(\"y est plus grand\")\n",
    "    else:\n",
    "        print(\"x,y sont egaux\")\n",
    "        "
   ]
  },
  {
   "cell_type": "code",
   "execution_count": 12,
   "id": "3bea216d",
   "metadata": {},
   "outputs": [
    {
     "name": "stdout",
     "output_type": "stream",
     "text": [
      " x est le plus grand\n"
     ]
    }
   ],
   "source": [
    "comparer(5,4)"
   ]
  },
  {
   "cell_type": "markdown",
   "id": "2c2a8323-19ba-489f-a5a4-af1ae85d8741",
   "metadata": {},
   "source": [
    "### Exercice 5: Calcul de la moyenne\n",
    "Écrivez une fonction calculer_moyenne(a, b, c) qui prend trois notes en arguments et calcule la moyenne. Utilisez if pour déterminer si la moyenne est supérieure ou égale à 10 (réussi) ou inférieure (échec)."
   ]
  },
  {
   "cell_type": "code",
   "execution_count": 23,
   "id": "0b4ed61c-02ed-461c-9960-a4ef5ad1e37d",
   "metadata": {},
   "outputs": [
    {
     "ename": "NameError",
     "evalue": "name 'moyenne' is not defined",
     "output_type": "error",
     "traceback": [
      "\u001b[1;31m---------------------------------------------------------------------------\u001b[0m",
      "\u001b[1;31mNameError\u001b[0m                                 Traceback (most recent call last)",
      "Cell \u001b[1;32mIn[23], line 3\u001b[0m\n\u001b[0;32m      1\u001b[0m \u001b[38;5;28;01mdef\u001b[39;00m \u001b[38;5;21mcalculer_moyenne\u001b[39m(a, b, c):\n\u001b[0;32m      2\u001b[0m     moyenne \u001b[38;5;241m=\u001b[39m (a \u001b[38;5;241m+\u001b[39m b \u001b[38;5;241m+\u001b[39m c)\u001b[38;5;241m/\u001b[39m\u001b[38;5;241m3\u001b[39m\n\u001b[1;32m----> 3\u001b[0m \u001b[38;5;28;01mif\u001b[39;00m  moyenne\u001b[38;5;241m>\u001b[39m\u001b[38;5;241m=\u001b[39m \u001b[38;5;241m10\u001b[39m:\n\u001b[0;32m      4\u001b[0m     \u001b[38;5;28mprint\u001b[39m(\u001b[38;5;124m\"\u001b[39m\u001b[38;5;124mréussi\u001b[39m\u001b[38;5;124m\"\u001b[39m)\n\u001b[0;32m      5\u001b[0m \u001b[38;5;28;01melse\u001b[39;00m:\n",
      "\u001b[1;31mNameError\u001b[0m: name 'moyenne' is not defined"
     ]
    }
   ],
   "source": [
    "def calculer_moyenne(a, b, c):\n",
    "    moyenne = (a + b + c)/3\n",
    "if  moyenne>= 10:\n",
    "    print(\"réussi\")\n",
    "else:\n",
    "    print(\"échec\")"
   ]
  },
  {
   "cell_type": "markdown",
   "id": "e81a81aa-bd83-4b80-9d7f-52633e79665b",
   "metadata": {},
   "source": [
    "### Exercice 6: Nombre positif, négatif ou zéro\n",
    "Écrivez un programme qui demande à l'utilisateur de saisir un nombre. Utilisez if pour déterminer si le nombre est positif, négatif ou zéro, et affichez un message approprié."
   ]
  },
  {
   "cell_type": "code",
   "execution_count": 26,
   "id": "f77da705-1d9f-41fe-9530-53394b1d3120",
   "metadata": {},
   "outputs": [
    {
     "name": "stdout",
     "output_type": "stream",
     "text": [
      "veuillez saisir votre nombre10\n",
      "positif\n"
     ]
    }
   ],
   "source": [
    "nombre = float(input(\"veuillez saisir votre nombre\"))\n",
    "if ( nombre > 0):\n",
    "    print(\"positif\")\n",
    "elif(nombre < 0):\n",
    "    print(\"négatif\")\n",
    "else:\n",
    "    print(\"le nombre est zéro\")"
   ]
  },
  {
   "cell_type": "markdown",
   "id": "e1084337-07cd-4d31-a84e-c36aafdd856b",
   "metadata": {},
   "source": [
    "### Exercice 7: Année Bissextile\n",
    "Créez une fonction est_bissextile(annee) qui prend une année en entrée et utilise if pour vérifier si l'année est bissextile (divisible par 4, mais pas par 100 sauf si divisible par 400)."
   ]
  },
  {
   "cell_type": "code",
   "execution_count": null,
   "id": "8491948d-02a3-4729-bcd1-ecda41fbf749",
   "metadata": {},
   "outputs": [],
   "source": []
  },
  {
   "cell_type": "markdown",
   "id": "1ed05e11-b455-4141-800c-906d0fc8d4b1",
   "metadata": {},
   "source": [
    "### Exercice 8: Autorisation de conduire\n",
    "Écrivez un programme qui demande l'âge de l'utilisateur. Si l'âge est supérieur ou égal à 18, affichez \"Vous pouvez conduire\". Utilisez if et les opérateurs logiques pour vérifier."
   ]
  },
  {
   "cell_type": "code",
   "execution_count": null,
   "id": "f0875535-6f56-4401-9b89-d2c062abaaf0",
   "metadata": {},
   "outputs": [],
   "source": [
    "âge_utilisateur = float(input(\"quel est votre âge?\"))\n",
    "if (âge_utilisateur >= 18):\n",
    "    print(\"Vous pouvez conduire\")\n",
    "else:\n",
    "    print(\"vous ne pouvez pas conduire \")"
   ]
  },
  {
   "cell_type": "code",
   "execution_count": null,
   "id": "6a3c6f65",
   "metadata": {},
   "outputs": [],
   "source": []
  },
  {
   "cell_type": "markdown",
   "id": "34ffab76-8277-4423-b290-ef636b74f1dd",
   "metadata": {},
   "source": [
    "### Exercice 9: Vérification du nombre\n",
    "Créez une fonction nombre_dans_intervalle(x) qui vérifie si x est compris entre 10 et 20 (inclus) et retourne True ou False."
   ]
  },
  {
   "cell_type": "code",
   "execution_count": null,
   "id": "154bb826-1f7f-4dbb-82e8-197dd7d3dd69",
   "metadata": {},
   "outputs": [],
   "source": [
    "def nombre_dans_intervalle(x) :\n",
    "    nombre_dans_intervalle= 10  <= n <= 20\n",
    "if (nombre_dans_intervalle= 10  <= n <= 20):\n",
    "    print(\"true\")\n",
    "else:\n",
    "    print(\"false\")\n",
    "    return nombre_dans_intervalle"
   ]
  },
  {
   "cell_type": "code",
   "execution_count": null,
   "id": "e4c6dd81",
   "metadata": {},
   "outputs": [],
   "source": [
    "nombre_dans_intervalle(15)"
   ]
  },
  {
   "cell_type": "markdown",
   "id": "886e1cba-1b43-4ffe-826b-d6dae4184b16",
   "metadata": {},
   "source": [
    "### Exercice 10: Calculatrice Simple\n",
    "Écrivez une fonction calculer(a, b, operateur) qui prend deux nombres et un opérateur (+, -, *, /) et retourne le résultat de l'opération. Utilisez if pour gérer chaque cas."
   ]
  },
  {
   "cell_type": "code",
   "execution_count": null,
   "id": "2b3f3c7e-0f80-40a8-a9ea-959463bb9576",
   "metadata": {},
   "outputs": [],
   "source": [
    "def calculer(a, b, operateur):\n",
    "if opérateur == \"+\":\n",
    "    return a + b\n",
    "elif opérateur == \"-\": \n",
    "    return a - b\n",
    "elif opérateur == \"*\": \n",
    "    return a * b\n",
    "if b!= 0:\n",
    "    return a/b\n",
    "else:\n"
   ]
  },
  {
   "cell_type": "markdown",
   "id": "c57a7c2d-2ab8-47fa-bded-e5816c15e084",
   "metadata": {},
   "source": [
    "### Exercice 11: Vérification du genre et de l'âge\n",
    "Écrivez une fonction verifier_genre_age(sexe, age) qui prend en entrée le sexe (\"H\" pour homme, \"F\" pour femme) et l'âge. Utilisez if pour vérifier si la personne est une femme de plus de 18 ans et affichez un message approprié."
   ]
  },
  {
   "cell_type": "code",
   "execution_count": null,
   "id": "8fbc53c6-9f82-4585-87fa-ac87ac342cf1",
   "metadata": {},
   "outputs": [],
   "source": []
  },
  {
   "cell_type": "markdown",
   "id": "237c78dd-c2df-4cd6-80b2-890237f145a7",
   "metadata": {},
   "source": [
    "### Exercice 12: Nombre Divisible\n",
    "Créez une fonction est_divisible(x, y) qui prend deux nombres et vérifie si x est divisible par y. Retourne True ou False."
   ]
  },
  {
   "cell_type": "code",
   "execution_count": null,
   "id": "cec22be8-05e4-4286-9d1e-3edd74a7275d",
   "metadata": {},
   "outputs": [],
   "source": []
  },
  {
   "cell_type": "markdown",
   "id": "f0223e10-27f4-433b-b1c5-8a4b584e7c31",
   "metadata": {},
   "source": [
    "### Exercice 13: Comparaison de trois nombres\n",
    "Écrivez une fonction max_trois_nombres(a, b, c) qui prend trois nombres et retourne le plus grand d'entre eux en utilisant des if."
   ]
  },
  {
   "cell_type": "code",
   "execution_count": null,
   "id": "a7219039-c36e-40f1-bd7a-163c83b50196",
   "metadata": {},
   "outputs": [],
   "source": []
  },
  {
   "cell_type": "markdown",
   "id": "793fad26-9fb4-4ea4-9ac8-f9a19df11275",
   "metadata": {},
   "source": [
    "## Exercice 14: Vérification de la température\n",
    "Écrivez un programme qui demande à l'utilisateur de saisir une température. Utilisez if pour afficher \"Froid\" si la température est inférieure à 10, \"Chaud\" si elle est supérieure à 25, et \"Tempéré\" sinon."
   ]
  },
  {
   "cell_type": "code",
   "execution_count": null,
   "id": "17d09765-bd2c-4001-b41e-56f4a17c513f",
   "metadata": {},
   "outputs": [],
   "source": []
  },
  {
   "cell_type": "markdown",
   "id": "140ce74d-f250-41bc-b1a7-8e8afd5078bd",
   "metadata": {},
   "source": [
    "### Exercice 15: Prédiction d'égalité\n",
    "Créez une fonction predire_egalite(a, b, c) qui utilise if pour prédire si la somme de a et b est égale à c. Retourne True ou False."
   ]
  },
  {
   "cell_type": "code",
   "execution_count": null,
   "id": "00eebe63-ee9a-45b5-a297-8c5a72e68c1c",
   "metadata": {},
   "outputs": [],
   "source": []
  },
  {
   "cell_type": "markdown",
   "id": "9d312188-37b4-45be-be86-35ffc4884a10",
   "metadata": {},
   "source": [
    "### Exercice 16: Vérification du jour de la semaine\n",
    "Écrivez un programme qui demande à l'utilisateur de saisir un nombre entre 1 et 7 et utilise if pour afficher le jour correspondant (1 pour Lundi, 7 pour Dimanche)."
   ]
  },
  {
   "cell_type": "code",
   "execution_count": null,
   "id": "b242be21-1e9f-4b39-9d35-50232bd1413b",
   "metadata": {},
   "outputs": [],
   "source": []
  },
  {
   "cell_type": "markdown",
   "id": "9ecc567d-bc27-4fa4-971b-134e29f53cc7",
   "metadata": {},
   "source": [
    "### Exercice 17: Note et mention\n",
    "Créez une fonction mention(note) qui prend une note (0-20) et utilise if pour afficher la mention correspondante (\"Excellent\", \"Très bien\", \"Bien\", \"Passable\", \"Échec\")."
   ]
  },
  {
   "cell_type": "code",
   "execution_count": null,
   "id": "d155a8de-5098-441a-a5f4-cca34cdcf3b4",
   "metadata": {},
   "outputs": [],
   "source": []
  },
  {
   "cell_type": "markdown",
   "id": "2744e738-3ccf-4ebb-8842-4fee0a70094f",
   "metadata": {},
   "source": [
    "### Exercice 18: Vérification de l'âge pour une compétition\n",
    "Écrivez une fonction peut_participer(age) qui prend l'âge d'une personne et utilise if pour déterminer si elle peut participer à une compétition (18 ans et plus)."
   ]
  },
  {
   "cell_type": "code",
   "execution_count": null,
   "id": "6125cfd6-492f-4ba4-8708-d36d887b5733",
   "metadata": {},
   "outputs": [],
   "source": []
  },
  {
   "cell_type": "markdown",
   "id": "60de94e4-be4c-4a72-9be2-5f8e472486f1",
   "metadata": {},
   "source": [
    "### Exercice 25: Vérification de la validité d'un triangle\n",
    "Écrivez une fonction triangle_valide(a, b, c) qui prend trois longueurs et utilise if pour vérifier si elles peuvent former un triangle (somme des deux côtés est toujours plus grande que le troisième côté)."
   ]
  },
  {
   "cell_type": "code",
   "execution_count": null,
   "id": "1175283a-425b-460c-a26f-d049763ab75d",
   "metadata": {},
   "outputs": [],
   "source": []
  },
  {
   "cell_type": "markdown",
   "id": "821ae396-83d3-45b1-bfbe-3e8e8cb2c45c",
   "metadata": {},
   "source": [
    "### Exercice 23: Détermination de l'admission\n",
    "Écrivez une fonction admission(moyenne) qui prend une moyenne et utilise if pour déterminer si un étudiant est admis (moyenne >=10) ou non."
   ]
  },
  {
   "cell_type": "code",
   "execution_count": null,
   "id": "ca17eb90-a968-486a-ad82-3bcf7bced5ac",
   "metadata": {},
   "outputs": [],
   "source": []
  },
  {
   "cell_type": "markdown",
   "id": "9ceb228e-3b57-4289-8013-5d9192aa871c",
   "metadata": {},
   "source": [
    "### Exercice 22: Conversion Celsius-Fahrenheit\n",
    "Créez une fonction convertir_celsius_fahrenheit(celsius) qui prend une température en degrés Celsius et utilise if pour déterminer si la température convertie est froide (<=32°F), chaude (>=85°F), ou modérée."
   ]
  },
  {
   "cell_type": "code",
   "execution_count": null,
   "id": "8d90e995-44be-4a23-bc19-8571a14442d7",
   "metadata": {},
   "outputs": [],
   "source": [
    "def convertir_celcius_fahrenheit(celcius):\n",
    "    fahrenheit=(celcius*9/5)+32\n",
    "    if fahrenheit<=32:\n",
    "        conversion=print(\"la temperature est froide\")\n",
    "    elif fahrenheit >=85:\n",
    "         conversion=print(\"la temperature est chaude\")\n",
    "    else:\n",
    "         conversion=print(\"la temperature est modérée\")\n",
    "    return fahrenheit\n",
    "    return conversion"
   ]
  },
  {
   "cell_type": "code",
   "execution_count": null,
   "id": "09f59acc-42bd-42ad-bb0e-828114ddad30",
   "metadata": {},
   "outputs": [],
   "source": [
    "convertir_celcius_fahrenheit(0)"
   ]
  },
  {
   "cell_type": "markdown",
   "id": "36cb1aa3-d2c6-4abf-b2a9-e5b4bcb498fc",
   "metadata": {},
   "source": [
    "### Exercice 19: Tri de deux nombres\n",
    "Écrivez une fonction trier(a, b) qui prend deux nombres et utilise if pour les afficher en ordre croissant."
   ]
  },
  {
   "cell_type": "code",
   "execution_count": null,
   "id": "13dca5d6-5f31-488f-bc60-7d34063c1651",
   "metadata": {},
   "outputs": [],
   "source": [
    "def trier(a,b):\n",
    "    if a<b:\n",
    "       tri=print(a,\" \",b)\n",
    "    else:\n",
    "        tri=print(b,\" \",a)\n",
    "    return tri"
   ]
  },
  {
   "cell_type": "code",
   "execution_count": null,
   "id": "211e1879-aa14-4fc0-8eda-290683f467d0",
   "metadata": {},
   "outputs": [],
   "source": [
    "trier(3,10)"
   ]
  },
  {
   "cell_type": "markdown",
   "id": "a1a99426-651f-4b08-8e61-749150fe313a",
   "metadata": {},
   "source": [
    "### Exercice 21: Vérification d'un caractère\n",
    "Écrivez une fonction est_voyelle(caractere) qui prend un caractère et utilise if pour vérifier si c'est une voyelle (a, e, i, o, u)."
   ]
  },
  {
   "cell_type": "code",
   "execution_count": null,
   "id": "cf9a1112-835e-4ec1-af98-521ddbdf1c3d",
   "metadata": {},
   "outputs": [],
   "source": [
    "def est_voyelle(caractere):\n",
    "    if caractere== \"a\":\n",
    "        voyelle= print(\"est une voyelle\")\n",
    "    elif caractere== \"e\":\n",
    "         voyelle= print(\"est une voyelle\")\n",
    "    elif caractere== \"i\":\n",
    "        voyelle= print(\"est une voyelle\")\n",
    "    elif  caractere == \"o\" :\n",
    "         voyelle= print(\"est une voyelle\")\n",
    "    elif caractere== \"u\" :\n",
    "         voyelle= print(\"est une voyelle\")\n",
    "    else:\n",
    "         voyelle= print(\"n'est pas une voyelle\")\n",
    "    return voyelle"
   ]
  },
  {
   "cell_type": "code",
   "execution_count": null,
   "id": "cd139a37-cd94-437c-b727-271a955c2f79",
   "metadata": {},
   "outputs": [],
   "source": [
    "est_voyelle(\"z\")"
   ]
  },
  {
   "cell_type": "markdown",
   "id": "0f39bf1b-8c59-4d55-98b2-2df3ae93140e",
   "metadata": {},
   "source": [
    "### Exercice 20: Détermination d'une forme géométrique\n",
    "Créez une fonction forme_geometrique(cotes) qui prend le nombre de côtés d'une forme et utilise if pour afficher le nom de la forme (3 pour triangle, 4 pour carré ou rectangle, etc.)."
   ]
  },
  {
   "cell_type": "code",
   "execution_count": null,
   "id": "c621be3d-5091-490e-99d0-eb91dec2df80",
   "metadata": {},
   "outputs": [],
   "source": [
    "def forme_geometrique(cotes):\n",
    "    if cotes==3:\n",
    "        forme=print(\"est un triangle\")\n",
    "    elif cotes==4:\n",
    "        forme=print(\"est un quadrilatère\")\n",
    "    elif cotes==5:\n",
    "        forme=print(\"est un pentagone\")\n",
    "    elif cotes==6:\n",
    "        forme=print(\"est un hexagone\")\n",
    "    elif cotes==7:\n",
    "        forme=print(\"est un heptagone\")\n",
    "    elif cotes==8:\n",
    "        forme=print(\"est un octogone\")\n",
    "    else:\n",
    "        forme=print(\"n'est pas repertoriée\")\n",
    "    return forme"
   ]
  },
  {
   "cell_type": "code",
   "execution_count": null,
   "id": "77b39ccd-de4d-4301-b5e6-e9c2749d3382",
   "metadata": {},
   "outputs": [],
   "source": [
    "forme_geometrique(9)"
   ]
  },
  {
   "cell_type": "code",
   "execution_count": null,
   "id": "52d769c4-3a7d-4968-a4ab-03f6dc4e54de",
   "metadata": {},
   "outputs": [],
   "source": [
    "forme_geometrique(5)"
   ]
  },
  {
   "cell_type": "markdown",
   "id": "e5c7d0a4-b3fb-45aa-bbcc-6756fb1f8786",
   "metadata": {},
   "source": [
    "# Exercices supplémentaires avec Conditions Multiples et Opérateurs Logiques"
   ]
  },
  {
   "cell_type": "markdown",
   "id": "042dece3-6aa2-405c-8cde-75bd6e8a2c5d",
   "metadata": {},
   "source": [
    "### Exercice 26: Catégorisation d'âge avec plusieurs conditions\n",
    "- Écrivez une fonction categoriser_age(age) qui prend un âge en entrée\n",
    "- et utilise if, elif, et else pour afficher la catégorie d'âge :\n",
    "- \"Enfant\" (0-12), \"Adolescent\" (13-17), \"Adulte\" (18-64), \"Senior\" (65+)."
   ]
  },
  {
   "cell_type": "code",
   "execution_count": null,
   "id": "c33838b0-fa49-4ce8-b8dd-d5c30411c1a0",
   "metadata": {},
   "outputs": [],
   "source": [
    "def categoriser_age(age):\n",
    "    if (age>=0)&(age<=12):\n",
    "        categorie=print(\"Enfant\")\n",
    "    elif (age>12)&(age<=17):\n",
    "        categorie=print(\"Adolescent\")\n",
    "    elif (age>17)&(age<=64):\n",
    "        categorie=print(\"Adulte\")\n",
    "    elif (age>=65):\n",
    "        categorie=print(\"Senior\")\n",
    "    else:\n",
    "        categorie=print(\"Nourisson\")\n",
    "    return categorie"
   ]
  },
  {
   "cell_type": "code",
   "execution_count": null,
   "id": "9e981a69-096f-4801-bfd0-7a1eb9285538",
   "metadata": {},
   "outputs": [],
   "source": [
    "categoriser_age(126)"
   ]
  },
  {
   "cell_type": "markdown",
   "id": "0f1fc89a-ca20-4527-8a38-ab41b9cfc68b",
   "metadata": {},
   "source": [
    "### Exercice 27: Vérification de l'accès utilisateur\n",
    "- Créez une fonction verifier_acces(utilisateur, mot_de_passe) qui prend deux arguments :\n",
    "- un nom d'utilisateur et un mot de passe.\n",
    "- Utilisez if avec des conditions multiples pour vérifier que l'utilisateur est \"admin\" et que le mot de passe est \"Python123\".\n",
    "- Affichez \"Accès autorisé\" si les deux sont corrects, sinon \"Accès refusé\"."
   ]
  },
  {
   "cell_type": "code",
   "execution_count": null,
   "id": "e8a092e3-2a96-43f7-a71a-af8656bc0da4",
   "metadata": {},
   "outputs": [],
   "source": [
    "def verifier_acces(utilisateur, mot_de_passe):\n",
    "    if (utilisateur==\"admin\")&(mot_de_passe==\"Python123\"):\n",
    "        acces=print(\"Accès autorisé\")\n",
    "    else :\n",
    "        acces=print(\"Accès refusé\")\n",
    "    return acces"
   ]
  },
  {
   "cell_type": "code",
   "execution_count": null,
   "id": "0ea7f436-9f7d-40c4-96ff-f9c029f9934f",
   "metadata": {},
   "outputs": [],
   "source": [
    "verifier_acces(\"AAAdmin\",\"Python123\")"
   ]
  },
  {
   "cell_type": "markdown",
   "id": "643e94f6-05bd-4db8-b837-3c7312e839b4",
   "metadata": {},
   "source": [
    "### Exercice 28: Prédiction de température avec opérateurs logiques\n",
    "Écrivez une fonction prevoir_temperature(temp) qui prend une température temp et utilise les opérateurs logiques pour vérifier :\n",
    "Si temp < 0 : affichez \"Glacial\".\n",
    "Si 0 <= temp <= 10 : affichez \"Très froid\".\n",
    "Si 10 < temp <= 20 : affichez \"Froid\".\n",
    "Si 20 < temp <= 30 : affichez \"Tempéré\".\n",
    "Si temp > 30 : affichez \"Chaud\"."
   ]
  },
  {
   "cell_type": "code",
   "execution_count": null,
   "id": "8a21d2a6-0f0b-4e03-8a49-403abe800bba",
   "metadata": {},
   "outputs": [],
   "source": [
    "def prevoir_temperature(temp):\n",
    "    if temp<0:\n",
    "        temperature=print(\"Glacial\")\n",
    "    elif (temp>=0) & (temp<=10):\n",
    "        temperature=print(\"Très froid\")\n",
    "    elif (temp>10)&(temp<=20):\n",
    "        temperature=print(\"Froid\")\n",
    "    elif (temp>20)&(temp<=30):\n",
    "        temperature=print(\"Tempéré\")\n",
    "    else:\n",
    "        temperature=print(\"Chaud\")\n",
    "    return temperature"
   ]
  },
  {
   "cell_type": "code",
   "execution_count": null,
   "id": "cc9d91c3-d1bc-40a3-a3e8-bae0d159ce36",
   "metadata": {},
   "outputs": [],
   "source": [
    "prevoir_temperature(18)"
   ]
  },
  {
   "cell_type": "markdown",
   "id": "a9597c3b-1008-401f-8fd2-2719bb08c85a",
   "metadata": {},
   "source": [
    "### Exercice 29: Vérification des conditions d'entrée à l'université\n",
    "Créez une fonction admission_universite(moyenne, age) qui prend une moyenne et un âge. Utilisez des opérateurs logiques pour vérifier :\n",
    "Si moyenne >= 12 et age >= 18 : affichez \"Admission accordée\".\n",
    "Si moyenne >= 10 et age >= 18 : affichez \"Admission conditionnelle\".\n",
    "Sinon : affichez \"Admission refusée\""
   ]
  },
  {
   "cell_type": "code",
   "execution_count": null,
   "id": "af1d41c1-4bfb-4d46-9774-e8f3bfb8d432",
   "metadata": {},
   "outputs": [],
   "source": [
    "def admission_universite(moyenne,age):\n",
    "    if (moyenne>=12)&(age>=18):\n",
    "        admission= print(\"Admission accordée\")\n",
    "    elif (moyenne>=10)&(age>=18):\n",
    "        admission= print(\"Admission conditionnelle\")\n",
    "    else :\n",
    "        admission= print(\"Admission refusée\")\n",
    "    return admission"
   ]
  },
  {
   "cell_type": "code",
   "execution_count": null,
   "id": "22e4c995-9860-408e-81c1-d07575d65855",
   "metadata": {},
   "outputs": [],
   "source": [
    "admission_universite(11,20)"
   ]
  },
  {
   "cell_type": "markdown",
   "id": "4b6b790a-3fef-4f8d-817d-152076304646",
   "metadata": {},
   "source": [
    "### Exercice 30: Calcul du bonus de performance avec plusieurs conditions\n",
    "Écrivez une fonction calculer_bonus(score) qui prend un score de performance en entrée. Utilisez des conditions multiples pour déterminer le bonus :\n",
    "Si score >= 90 : bonus de 20%.\n",
    "Si score >= 75 mais < 90 : bonus de 15%.\n",
    "Si score >= 60 mais < 75 : bonus de 10%.\n",
    "Si score < 60 : pas de bonus."
   ]
  },
  {
   "cell_type": "code",
   "execution_count": null,
   "id": "cf13248a-27a8-476c-a19d-800ad3436a7e",
   "metadata": {},
   "outputs": [],
   "source": [
    "def calculer_bonus(score):\n",
    "    if score>=90:\n",
    "        bonus=print(\"vous avez\", 20,\"%\")\n",
    "    elif (score>=75)&(score<90):\n",
    "        bonus=print(\"vous avez\", 15,\"%\")\n",
    "    elif (score>=60)&(score<75):\n",
    "        bonus=print(\"vous avez\",10,\"%\")\n",
    "    else:\n",
    "        bonus=print(\"vous n'avez pas de bonus\")\n",
    "    return bonus"
   ]
  },
  {
   "cell_type": "code",
   "execution_count": null,
   "id": "a95ae090-2ed8-4a4c-b83b-e3fa9ba3a7c5",
   "metadata": {},
   "outputs": [],
   "source": [
    "calculer_bonus(145)"
   ]
  },
  {
   "cell_type": "code",
   "execution_count": null,
   "id": "6b99f42d-6fa9-4fce-87c0-6cda589b18a6",
   "metadata": {},
   "outputs": [],
   "source": [
    "def offre_speciale(age,client_fidele):\n",
    "    if (age>=65) or (client_fidele== True):\n",
    "        offre= print(\"Éligible à l'offre spéciale\")\n",
    "    else:\n",
    "        offre= print(\"Non Éligible à l'offre spéciale\")\n",
    "    return offre\n",
    "    "
   ]
  },
  {
   "cell_type": "code",
   "execution_count": null,
   "id": "ff2ea28c-6094-41b9-86e2-45330b9bf399",
   "metadata": {},
   "outputs": [],
   "source": [
    "offre_speciale(65,False)"
   ]
  },
  {
   "cell_type": "markdown",
   "id": "1fa16ce0-2e38-447b-abf7-4b8417d1b0d2",
   "metadata": {},
   "source": [
    "### Exercice 33: Analyse de notes avec opérateurs logiques et de comparaison\n",
    "Créez une fonction analyse_notes(note1, note2, note3) qui prend trois notes. Utilisez des opérateurs logiques pour déterminer si toutes les notes sont au moins 10 (note1 >= 10 and note2 >= 10 and note3 >= 10) et affichez \"Réussi\" si c'est le cas, sinon \"Échec\"."
   ]
  },
  {
   "cell_type": "code",
   "execution_count": null,
   "id": "3ea4e53d-c1ea-442d-991c-5a91e47aa5dc",
   "metadata": {},
   "outputs": [],
   "source": [
    "def analyse_notes(note1, note2, note3):\n",
    "    if (note1>=10) & (note2>=10) &(note3>=10):\n",
    "        resul= print(\"Réussi\")\n",
    "    else:\n",
    "        resul= print(\"Echec\")\n",
    "    return resul"
   ]
  },
  {
   "cell_type": "code",
   "execution_count": null,
   "id": "81c8031e-723a-4f96-86e7-f9bcea029166",
   "metadata": {},
   "outputs": [],
   "source": [
    "analyse_notes(9,10,15)"
   ]
  },
  {
   "cell_type": "markdown",
   "id": "c919b492-dee0-4126-9628-2442ee922462",
   "metadata": {},
   "source": [
    "### Exercice 34: Jeu de devinettes avec conditions multiples\n",
    "Écrivez un programme qui demande à l'utilisateur de deviner un nombre secret entre 1 et 10. Si l'utilisateur devine correctement, affichez \"Bravo, vous avez deviné le bon nombre!\". Si le nombre est plus grand, affichez \"Trop grand!\" et s'il est plus petit, affichez \"Trop petit!\". Utilisez plusieurs conditions avec if, elif, et else."
   ]
  },
  {
   "cell_type": "code",
   "execution_count": null,
   "id": "0bc2e150-39f1-40ad-b68b-3673cf522e85",
   "metadata": {},
   "outputs": [],
   "source": [
    "print(\"Déviner un nombre compris entre 1 et 10\")\n",
    "nombre=int(input())\n",
    "for i \n",
    "if nombre==1:\n",
    "    print=(\"Trop grand\")\n",
    "elif nombre <"
   ]
  },
  {
   "cell_type": "markdown",
   "id": "7010fd48-dc15-4337-af51-66ce2f99b437",
   "metadata": {},
   "source": [
    "### Exercice 35: Détermination du type de triangle\n",
    "Créez une fonction type_triangle(a, b, c) qui prend trois longueurs de côtés d'un triangle. Utilisez des opérateurs de comparaison et logiques pour déterminer si le triangle est équilatéral (a == b == c), isocèle (a == b or b == c or a == c), ou scalène (tous les côtés différents)."
   ]
  },
  {
   "cell_type": "code",
   "execution_count": null,
   "id": "55ead987-41bf-476b-97a2-6eacfe2f392a",
   "metadata": {},
   "outputs": [],
   "source": [
    "def type_triangle(a,b,c):\n",
    "    if (a==b)&(a==c):\n",
    "        type= print( \"c'est un triangle équilatéral\")\n",
    "    elif (a==b)or(a==c)or(b==c):\n",
    "        type= print( \"c'est un triangle isocèle\")\n",
    "    else:\n",
    "        type= print( \"c'est un triangle scalène \")\n",
    "    return type"
   ]
  },
  {
   "cell_type": "code",
   "execution_count": null,
   "id": "9a42e2cd-ae25-4c12-aeae-a86e9a7c9403",
   "metadata": {},
   "outputs": [],
   "source": [
    "type_triangle(4,5,3)"
   ]
  },
  {
   "cell_type": "markdown",
   "id": "883ef04a-0d82-497a-98dc-b0b49749a367",
   "metadata": {},
   "source": [
    "### Exercice 36: Vérification de la validité d'un email\n",
    "Écrivez une fonction valider_email(email) qui vérifie que l'email contient le symbole @ et termine par .com ou .fr. Utilisez les opérateurs logiques and et or pour effectuer la vérification."
   ]
  },
  {
   "cell_type": "code",
   "execution_count": null,
   "id": "3bc4b1f9-e71b-4248-8943-947c2f2bdf6b",
   "metadata": {},
   "outputs": [],
   "source": []
  },
  {
   "cell_type": "markdown",
   "id": "89b60f41-df39-4027-ba6d-9f489de06f9e",
   "metadata": {},
   "source": [
    "### Exercice 37: Calcul du prix avec réduction\n",
    "Créez une fonction calculer_prix(prix, reduction) qui prend un prix et une réduction en pourcentage. Utilisez if pour vérifier si la réduction est supérieure à 50%. Si oui, appliquez une réduction supplémentaire de 5%.\n"
   ]
  },
  {
   "cell_type": "code",
   "execution_count": null,
   "id": "69045698-56b3-4c5b-a5e1-19e4e5e095c9",
   "metadata": {},
   "outputs": [],
   "source": [
    "def calculer_prix(prix,reduction):\n",
    "    if reduction>0.5:\n",
    "        reduction=(reduction+0.05)\n",
    "        prix=prix*(1-reduction)\n",
    "    else:\n",
    "        prix=prix*(1-reduction)\n",
    "    return prix"
   ]
  },
  {
   "cell_type": "code",
   "execution_count": null,
   "id": "b9652d83-c64d-41be-8d32-47d9ad21b526",
   "metadata": {},
   "outputs": [],
   "source": [
    "calculer_prix(500,0.45)"
   ]
  },
  {
   "cell_type": "code",
   "execution_count": null,
   "id": "490fa3bc-4591-486d-badc-8735d7cc3db3",
   "metadata": {},
   "outputs": [],
   "source": []
  },
  {
   "cell_type": "code",
   "execution_count": null,
   "id": "b25fd666-3a16-40bb-a5cc-7ce0cbb35d35",
   "metadata": {},
   "outputs": [],
   "source": []
  },
  {
   "cell_type": "markdown",
   "id": "9fe3f8ac-6e0b-4dff-93f8-484910487c8a",
   "metadata": {},
   "source": [
    "### Exercice 38: Analyse d'un mot de passe sécurisé\n",
    "Écrivez une fonction mot_de_passe_securise(mdp) qui prend un mot de passe et utilise des opérateurs logiques pour vérifier qu'il a au moins 8 caractères, contient au moins un chiffre, et au moins une lettre majuscule. Si toutes les conditions sont remplies, affichez \"Mot de passe sécurisé\", sinon \"Mot de passe non sécurisé\"."
   ]
  },
  {
   "cell_type": "code",
   "execution_count": null,
   "id": "5145dd3a-a13a-4bb9-8a03-04642518de3c",
   "metadata": {},
   "outputs": [],
   "source": [
    "def mot_de_passe_securise(mdp):\n",
    "    if (len(mdp)==8) & ("
   ]
  },
  {
   "cell_type": "markdown",
   "id": "ad69b991-95c1-4225-94ff-94b33b47400d",
   "metadata": {},
   "source": [
    "### Exercice 39: Vérification des résultats sportifs \n",
    "Créez une fonction resultats_sportifs(victoire, defaite, nul) qui prend trois arguments. Utilisez les opérateurs logiques pour vérifier si l'équipe a gagné plus de matchs qu'elle n'en a perdu (victoire > defaite), et affichez \"Bonne saison\" ou \"Mauvaise saison\"."
   ]
  },
  {
   "cell_type": "code",
   "execution_count": null,
   "id": "e91e7f1b-ad8e-49e2-8d61-3d1ed9a46f4b",
   "metadata": {},
   "outputs": [],
   "source": [
    "def resultats_sportifs(victoire, defaite, nul):\n",
    "    if victoire>defaite:\n",
    "        saison=print(\"Bonne saison\")\n",
    "    else:\n",
    "        saison=print(\"Mauvaise saison\")\n",
    "    return saison"
   ]
  },
  {
   "cell_type": "code",
   "execution_count": null,
   "id": "03f0cfaf-5cba-4075-a4da-40244a4b6445",
   "metadata": {},
   "outputs": [],
   "source": [
    "resultats_sportifs(5,5,5)"
   ]
  },
  {
   "cell_type": "markdown",
   "id": "60d2bb23-a198-4881-8892-cf0cb1276dd3",
   "metadata": {},
   "source": [
    "### Exercice 40: Gestion des stocks d'un magasin\n",
    "Écrivez une fonction verifier_stock(quantite, seuil) qui prend la quantité en stock d'un produit et un seuil minimum. Utilisez if et or pour afficher \"Stock insuffisant\" si la quantité est inférieure au seuil ou à zéro, sinon affichez \"Stock suffisant\"."
   ]
  },
  {
   "cell_type": "code",
   "execution_count": null,
   "id": "49e08b3e-d079-40c9-a24a-6c9c5eb6f1fa",
   "metadata": {},
   "outputs": [],
   "source": [
    "def verifier_stock(quantite,seuil):\n",
    "    if (quantite<seuil) or (quantite==0):\n",
    "        stock= print(\"Stock insuffisant\")\n",
    "    else:\n",
    "        stock= print(\"Stock suffisant\")\n",
    "    return stock"
   ]
  },
  {
   "cell_type": "code",
   "execution_count": null,
   "id": "5e38c627-5077-4de6-8a1b-3661bbd7a88f",
   "metadata": {},
   "outputs": [],
   "source": [
    "verifier_stock(10,20)"
   ]
  },
  {
   "cell_type": "markdown",
   "id": "1c745ce3-f4a6-4012-aa55-50034ec0a838",
   "metadata": {},
   "source": [
    "### Exercice 41: Analyse des résultats d'examens multiples\n",
    "Créez une fonction analyse_examen(math, physique, chimie) qui prend trois notes en entrée. Utilisez les opérateurs logiques pour déterminer si l'élève a réussi tous les examens (math >= 10 and physique >= 10 and chimie >= 10) ou s'il a échoué à au moins un d'entre eux."
   ]
  },
  {
   "cell_type": "code",
   "execution_count": null,
   "id": "d8039336-0f19-4091-99f9-f8357d8723e4",
   "metadata": {},
   "outputs": [],
   "source": [
    "def analyse_examen(math, physique, chimie):\n",
    "    if (math>=10) and (physique>=10) and (chimie>=10):\n",
    "        analyse= print(\"l'élève a réussi à tous les examens\")\n",
    "    else :\n",
    "        analyse= print(\"l'élève n'a pas réussi à tous les examens\")\n",
    "    return analyse"
   ]
  },
  {
   "cell_type": "code",
   "execution_count": null,
   "id": "14914ad1-0460-460d-af0b-a8a1187f1459",
   "metadata": {},
   "outputs": [],
   "source": [
    "analyse_examen(11,12,15)"
   ]
  },
  {
   "cell_type": "markdown",
   "id": "1ba6f68e-b71d-489a-acee-c82bf9e744af",
   "metadata": {},
   "source": [
    "### Exercice 42: Contrôle de validité d'une date\n",
    "Écrivez une fonction valider_date(jour, mois, annee) qui vérifie si une date donnée est valide. Utilisez des conditions multiples pour vérifier que :\n",
    "jour est compris entre 1 et 31, mois est compris entre 1 et 12, et annee est positive. Affichez \"Date valide\" ou \"Date invalide\"."
   ]
  },
  {
   "cell_type": "code",
   "execution_count": null,
   "id": "35b9eeb8-82a6-4b64-9fe3-e731133c001e",
   "metadata": {},
   "outputs": [],
   "source": [
    "def valider_date(jour, mois, annee):\n",
    "    if (jour>=1)&(jour<=31):\n",
    "        if (mois>=1)&(mois<=12):\n",
    "            if (annee>0):\n",
    "                date= print(\"Date valide\")\n",
    "            else :\n",
    "               date=print(\"année non valide\")\n",
    "        else:\n",
    "            date= print (\"Mois invalide\")\n",
    "    else:\n",
    "        date= print(\"Date invalide\")\n",
    "    return date"
   ]
  },
  {
   "cell_type": "code",
   "execution_count": null,
   "id": "77270933-72ec-4d28-8179-e9408397df72",
   "metadata": {},
   "outputs": [],
   "source": [
    "valider_date(15,145,2000)"
   ]
  },
  {
   "cell_type": "markdown",
   "id": "71d3e6a9-0b7b-4b6a-a8c5-1ec18c74bf07",
   "metadata": {},
   "source": [
    "### Exercice 43: Vérification de l'admissibilité à un prêt bancaire\n",
    "Créez une fonction eligibilite_pret(revenu, dette, age) qui utilise les opérateurs logiques pour vérifier si une personne est éligible pour un prêt :\n",
    "La personne doit avoir revenu >= 30000 et dette < 10000, et age >= 18."
   ]
  },
  {
   "cell_type": "code",
   "execution_count": null,
   "id": "1f564b16-404f-423a-8b59-e43436964b60",
   "metadata": {},
   "outputs": [],
   "source": [
    "def eligibilite_pret(revenu, dette, age):\n",
    "    if (revenu>= 30000) & (dette<10000) & (age>=18):\n",
    "        eligible= print(\"Eligible pour le pret\")\n",
    "    else:\n",
    "        eligible= print(\"non Eligible pour le pret\")\n",
    "    return eligible\n",
    "    "
   ]
  },
  {
   "cell_type": "code",
   "execution_count": null,
   "id": "90f61f60-26c6-4fc8-ad5c-a0387b383694",
   "metadata": {},
   "outputs": [],
   "source": [
    "eligibilite_pret(350,700000,15)"
   ]
  },
  {
   "cell_type": "markdown",
   "id": "be2baaa3-11f4-4364-a60e-e86c6079948c",
   "metadata": {},
   "source": [
    "###  Exercice 44: Prédiction de la météo avec plusieurs conditions\n",
    "Écrivez une fonction prevoir_meteo(temperature, humidite) qui prend en entrée la température et l'humidité et utilise les opérateurs logiques pour afficher des prévisions météo :\n",
    "\"Pluie probable\" si humidite > 70 et temperature < 20.\n",
    "\"Ensoleillé\" si humidite < 50 et temperature > 25."
   ]
  },
  {
   "cell_type": "code",
   "execution_count": null,
   "id": "f9679c44-68ec-48a6-86b0-e73afe869a8b",
   "metadata": {},
   "outputs": [],
   "source": [
    "def prevoir_meteo(temperature,humidite):\n",
    "    \n",
    "    if (humidite>70)&(temperature<20):\n",
    "        prevision= print(\"Pluie probable\")\n",
    "        \n",
    "    elif (humidite<50)&(temperature>25):\n",
    "         prevision= print(\"Ensoleillé\")\n",
    "    else:\n",
    "         prevision= print(\"Aucune prévision\")\n",
    "    return prevision\n",
    "        "
   ]
  },
  {
   "cell_type": "code",
   "execution_count": null,
   "id": "ffc4aeb8-fa04-49d6-a7e0-4b68a512fddd",
   "metadata": {},
   "outputs": [],
   "source": [
    "prevoir_meteo(30,80)"
   ]
  },
  {
   "cell_type": "markdown",
   "id": "f5d7b028-fc11-4cd5-861c-f08bf961b840",
   "metadata": {},
   "source": [
    "### Exercice 45: Validation de la saisie de l'utilisateur\n",
    "Créez une fonction valider_saisie(nombre) qui prend un nombre en entrée et utilise les opérateurs de comparaison pour vérifier que nombre est compris entre 1 et 100. Affichez \"Saisie valide\" ou \"Saisie invalide\"."
   ]
  },
  {
   "cell_type": "code",
   "execution_count": null,
   "id": "bf102b86-c135-4b93-9b13-6bb38e98c534",
   "metadata": {},
   "outputs": [],
   "source": [
    "def valider_saisie(nombre):\n",
    "    if (nombre>=1)&(nombre<=100):\n",
    "        saisie= print(\"saisie valide\")\n",
    "    else:\n",
    "        saisie= print(\"saisie invalide\")\n",
    "    return saisie"
   ]
  },
  {
   "cell_type": "code",
   "execution_count": null,
   "id": "731b8620-de26-4da3-91e5-3d338d9dbb76",
   "metadata": {},
   "outputs": [],
   "source": [
    "valider_saisie(695)"
   ]
  },
  {
   "cell_type": "code",
   "execution_count": null,
   "id": "d0c64b08-097f-41a0-b86b-a1b892378edf",
   "metadata": {},
   "outputs": [],
   "source": []
  }
 ],
 "metadata": {
  "kernelspec": {
   "display_name": "Python 3 (ipykernel)",
   "language": "python",
   "name": "python3"
  },
  "language_info": {
   "codemirror_mode": {
    "name": "ipython",
    "version": 3
   },
   "file_extension": ".py",
   "mimetype": "text/x-python",
   "name": "python",
   "nbconvert_exporter": "python",
   "pygments_lexer": "ipython3",
   "version": "3.11.5"
  }
 },
 "nbformat": 4,
 "nbformat_minor": 5
}
