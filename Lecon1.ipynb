{
 "cells": [
  {
   "cell_type": "markdown",
   "id": "b4b09e3c",
   "metadata": {},
   "source": [
    "print(\"HELLO WORD\")"
   ]
  },
  {
   "cell_type": "code",
   "execution_count": 2,
   "id": "b7f7c6a6",
   "metadata": {},
   "outputs": [
    {
     "name": "stdout",
     "output_type": "stream",
     "text": [
      "Je m'appelle Percy\n"
     ]
    }
   ],
   "source": [
    "print(\"Je m'appelle Percy\")"
   ]
  },
  {
   "cell_type": "code",
   "execution_count": 3,
   "id": "59e11985",
   "metadata": {},
   "outputs": [
    {
     "data": {
      "text/plain": [
       "25"
      ]
     },
     "execution_count": 3,
     "metadata": {},
     "output_type": "execute_result"
    }
   ],
   "source": [
    "10+15"
   ]
  },
  {
   "cell_type": "markdown",
   "id": "9748f135",
   "metadata": {},
   "source": [
    "Ce note book concerne le projet de creation des foction python"
   ]
  },
  {
   "cell_type": "markdown",
   "id": "e098a4e6",
   "metadata": {},
   "source": [
    "# VARIABLE\n",
    "## VARIABLE\n",
    "### VARIABLE\n",
    "#### VARIABLE\n",
    "##### VARIABLE"
   ]
  },
  {
   "cell_type": "code",
   "execution_count": 2,
   "id": "1d2a325f",
   "metadata": {},
   "outputs": [],
   "source": [
    "# creation des variables \n",
    "nom = \"Percy\"\n",
    "age = 25\n",
    "taille = 1.85\n",
    "poids = 60\n",
    "message = \"je suis un acteur economique\""
   ]
  },
  {
   "cell_type": "code",
   "execution_count": 3,
   "id": "eadabbc0",
   "metadata": {},
   "outputs": [
    {
     "name": "stdout",
     "output_type": "stream",
     "text": [
      "Percy\n"
     ]
    }
   ],
   "source": [
    "print(nom)"
   ]
  },
  {
   "cell_type": "code",
   "execution_count": 4,
   "id": "20da49a7",
   "metadata": {},
   "outputs": [
    {
     "data": {
      "text/plain": [
       "'Percy'"
      ]
     },
     "execution_count": 4,
     "metadata": {},
     "output_type": "execute_result"
    }
   ],
   "source": [
    "nom"
   ]
  },
  {
   "cell_type": "code",
   "execution_count": 5,
   "id": "a4ed8c2a",
   "metadata": {},
   "outputs": [
    {
     "name": "stdout",
     "output_type": "stream",
     "text": [
      "25\n"
     ]
    }
   ],
   "source": [
    "print(age)"
   ]
  },
  {
   "cell_type": "code",
   "execution_count": 6,
   "id": "4ee8fe03",
   "metadata": {},
   "outputs": [
    {
     "name": "stdout",
     "output_type": "stream",
     "text": [
      "1.85\n",
      "60\n"
     ]
    }
   ],
   "source": [
    "print (taille)\n",
    "print (poids)"
   ]
  },
  {
   "cell_type": "code",
   "execution_count": 7,
   "id": "88a03ddd",
   "metadata": {},
   "outputs": [
    {
     "data": {
      "text/plain": [
       "str"
      ]
     },
     "execution_count": 7,
     "metadata": {},
     "output_type": "execute_result"
    }
   ],
   "source": [
    "type(nom)"
   ]
  },
  {
   "cell_type": "code",
   "execution_count": 8,
   "id": "f45a2e07",
   "metadata": {},
   "outputs": [
    {
     "data": {
      "text/plain": [
       "int"
      ]
     },
     "execution_count": 8,
     "metadata": {},
     "output_type": "execute_result"
    }
   ],
   "source": [
    "type(age)"
   ]
  },
  {
   "cell_type": "markdown",
   "id": "ec874a4f",
   "metadata": {},
   "source": [
    "# NOTION SUR LES VARIABLES EN PYTHON"
   ]
  },
  {
   "cell_type": "code",
   "execution_count": 38,
   "id": "cdfece1a",
   "metadata": {},
   "outputs": [],
   "source": [
    "# creation des variables \n",
    "l = 60\n",
    "L = 50\n",
    "c = 30.5"
   ]
  },
  {
   "cell_type": "markdown",
   "id": "ae482e5e",
   "metadata": {},
   "source": [
    "### SOLUTION DEMANDER"
   ]
  },
  {
   "cell_type": "code",
   "execution_count": 39,
   "id": "fdc22076",
   "metadata": {},
   "outputs": [],
   "source": [
    "# CALCUL DU PERIMETRE D'UN CARRE\n",
    "PERIMETRE_CARRE = c * 4\n",
    "\n",
    "# CALCUL DU PERIMETRE D'UN RECTANGLE\n",
    "PERIMETRE_RECTANGLE = ( l+L ) * 2\n",
    "\n",
    "# CALCUL DE LA SURFACE D'UN CARRE\n",
    "S_CARRE = c * c\n",
    "\n",
    "# CALCUL DE LA SURFACE D'UN RECTANGLE\n",
    "S_RECTANGLE = l *  L\n"
   ]
  },
  {
   "cell_type": "code",
   "execution_count": 4,
   "id": "6f1dd583",
   "metadata": {},
   "outputs": [
    {
     "name": "stdout",
     "output_type": "stream",
     "text": [
      "122.0\n",
      "220\n",
      "930.25\n",
      "3000\n"
     ]
    }
   ],
   "source": [
    "# AFFICHE RESULTANT\n",
    "print (PERIMETRE_CARRE )\n",
    "print (PERIMETRE_RECTANGLE )\n",
    "print (S_CARRE)\n",
    "print (S_RECTANGLE)\n"
   ]
  },
  {
   "cell_type": "markdown",
   "id": "0635c5cb",
   "metadata": {},
   "source": [
    "### Opérations Arithmétiques Simples:\n",
    "\n",
    "- **Opérations de Base**: Addition `+`, soustraction `-`, multiplication `*`, et division `/`.\n",
    "- **Opérations Avancées**: Division entière `//`, modulo `%`, et exponentiation `**`.\n",
    "- **Priorité**: Python suit l'ordre opérationnel mathématique standard."
   ]
  },
  {
   "cell_type": "code",
   "execution_count": 3,
   "id": "4fc25094",
   "metadata": {},
   "outputs": [
    {
     "name": "stdout",
     "output_type": "stream",
     "text": [
      "7\n"
     ]
    }
   ],
   "source": [
    "### Opération de base addition\n",
    "x=5\n",
    "y=2\n",
    "z = x+y\n",
    "print(z)"
   ]
  },
  {
   "cell_type": "code",
   "execution_count": 9,
   "id": "57ca50dd",
   "metadata": {},
   "outputs": [
    {
     "name": "stdout",
     "output_type": "stream",
     "text": [
      "10\n"
     ]
    }
   ],
   "source": [
    "# Opération de base Multiplication\n",
    "z=x*y\n",
    "print(z)"
   ]
  },
  {
   "cell_type": "code",
   "execution_count": 12,
   "id": "f8dce521",
   "metadata": {},
   "outputs": [
    {
     "name": "stdout",
     "output_type": "stream",
     "text": [
      "3\n"
     ]
    }
   ],
   "source": [
    "# Opération de base Soustraction \n",
    "z=x-y\n",
    "print(z)"
   ]
  },
  {
   "cell_type": "code",
   "execution_count": 13,
   "id": "c85896ad",
   "metadata": {},
   "outputs": [
    {
     "name": "stdout",
     "output_type": "stream",
     "text": [
      "2.5\n"
     ]
    }
   ],
   "source": [
    "# Opération de base Division\n",
    "z=5/2\n",
    "print(z)"
   ]
  },
  {
   "cell_type": "code",
   "execution_count": null,
   "id": "70af878c",
   "metadata": {},
   "outputs": [],
   "source": [
    "# Opération avancées Division entière \n"
   ]
  },
  {
   "cell_type": "markdown",
   "id": "088d086e",
   "metadata": {},
   "source": [
    "## Exerci 1 : Création de la fonction classique"
   ]
  },
  {
   "cell_type": "code",
   "execution_count": 22,
   "id": "a7eda824",
   "metadata": {},
   "outputs": [],
   "source": [
    "def p_carré(c):\n",
    "    perimetre = c * 4\n",
    "    return perimetre\n",
    "    "
   ]
  },
  {
   "cell_type": "code",
   "execution_count": 34,
   "id": "b1ee24af",
   "metadata": {},
   "outputs": [],
   "source": [
    "def s_carré(coté):\n",
    "    résultat = coté * coté\n",
    "    return résultat\n",
    "    "
   ]
  },
  {
   "cell_type": "code",
   "execution_count": 23,
   "id": "e7b4d35a",
   "metadata": {},
   "outputs": [
    {
     "data": {
      "text/plain": [
       "60"
      ]
     },
     "execution_count": 23,
     "metadata": {},
     "output_type": "execute_result"
    }
   ],
   "source": [
    "p_carré (15)"
   ]
  },
  {
   "cell_type": "code",
   "execution_count": null,
   "id": "759ff8e1",
   "metadata": {},
   "outputs": [],
   "source": [
    "def def s_rectangle(l,L):\n",
    "    rectange = l * L\n",
    "    return résultat"
   ]
  },
  {
   "cell_type": "code",
   "execution_count": 52,
   "id": "0cb63bd4",
   "metadata": {},
   "outputs": [
    {
     "data": {
      "text/plain": [
       "10"
      ]
     },
     "execution_count": 52,
     "metadata": {},
     "output_type": "execute_result"
    }
   ],
   "source": [
    "s_rectangle(2,5)"
   ]
  },
  {
   "cell_type": "code",
   "execution_count": 46,
   "id": "a69f0c82",
   "metadata": {},
   "outputs": [],
   "source": [
    "def s_rectangle(l,L):\n",
    "    rectange = ( l+L ) * 2\n",
    "    return rectange"
   ]
  },
  {
   "cell_type": "code",
   "execution_count": 47,
   "id": "ce36e7a8",
   "metadata": {},
   "outputs": [
    {
     "data": {
      "text/plain": [
       "14"
      ]
     },
     "execution_count": 47,
     "metadata": {},
     "output_type": "execute_result"
    }
   ],
   "source": [
    "s_rectangle(2,5)"
   ]
  },
  {
   "cell_type": "markdown",
   "id": "c78bdc91",
   "metadata": {},
   "source": [
    "## Opérations Logiques Simples:\n",
    "\n",
    "- **Opérateurs Logiques**: `and`, `or`, `not` pour les opérations booléennes.\n",
    "- **Comparaisons**: `==`, `!=`, `>`, `<`, `>=`, `<=` pour comparer des valeurs."
   ]
  },
  {
   "cell_type": "markdown",
   "id": "b717ce16",
   "metadata": {},
   "source": [
    "## Exercice 2 : Fonction de Conversion de Température\n",
    "\n",
    "**Objectif :** Écrire une fonction qui convertit la température de Celsius en Fahrenheit.\n",
    "\n",
    "**Instructions :**\n",
    "\n",
    "1. Créez une fonction nommée `celsius_en_fahrenheit` qui prend un nombre (température en degrés Celsius) comme argument.\n",
    "2. La fonction doit calculer et retourner la température en degrés Fahrenheit en utilisant la formule : \n",
    "   \n",
    "  $$\n",
    "   \\text{Fahrenheit} = \\left( \\text{Celsius} \\times \\frac{9}{5} \\right) + 32\n",
    "   $$\n",
    "\n",
    "3. Testez cette fonction en convertissant plusieurs températures de Celsius en Fahrenheit et affichez les résultats."
   ]
  },
  {
   "cell_type": "code",
   "execution_count": 1,
   "id": "493a34ec",
   "metadata": {},
   "outputs": [],
   "source": [
    "def celsius_to_fahrenheit(celsius):\n",
    "    fahrenheit=(celsius*9/5)+32\n",
    "    return fahrenheit"
   ]
  },
  {
   "cell_type": "code",
   "execution_count": 2,
   "id": "42caee38",
   "metadata": {},
   "outputs": [
    {
     "data": {
      "text/plain": [
       "41.0"
      ]
     },
     "execution_count": 2,
     "metadata": {},
     "output_type": "execute_result"
    }
   ],
   "source": [
    "celsius_to_fahrenheit(5)"
   ]
  },
  {
   "cell_type": "markdown",
   "id": "198ab91c",
   "metadata": {},
   "source": [
    "## Exerci création des fonction"
   ]
  },
  {
   "cell_type": "code",
   "execution_count": 1,
   "id": "d38b8b8e",
   "metadata": {},
   "outputs": [],
   "source": [
    "# création de fonction qui prend quantre en paramettre et il addition de les deux puis le miltiplier a la fin "
   ]
  },
  {
   "cell_type": "code",
   "execution_count": 3,
   "id": "e5c80d05",
   "metadata": {},
   "outputs": [],
   "source": [
    "def quantre_paramettre (a,b,c,d):\n",
    "    quantre = (a+b+c+d)*2\n",
    "    return quantre"
   ]
  },
  {
   "cell_type": "code",
   "execution_count": 4,
   "id": "704fd732",
   "metadata": {},
   "outputs": [
    {
     "data": {
      "text/plain": [
       "34"
      ]
     },
     "execution_count": 4,
     "metadata": {},
     "output_type": "execute_result"
    }
   ],
   "source": [
    "quantre_paramettre (2,4,5,6)"
   ]
  },
  {
   "cell_type": "markdown",
   "id": "db137620",
   "metadata": {},
   "source": [
    "# Structure de controle "
   ]
  },
  {
   "cell_type": "markdown",
   "id": "6280285b",
   "metadata": {},
   "source": [
    "## if: comment prendre des décisions dans vos programmes"
   ]
  },
  {
   "cell_type": "code",
   "execution_count": 6,
   "id": "c01dbf9b",
   "metadata": {},
   "outputs": [
    {
     "name": "stdout",
     "output_type": "stream",
     "text": [
      "il fait chaud\n"
     ]
    }
   ],
   "source": [
    "# décision simple (par une décision)\n",
    "\n",
    "temperature = 45\n",
    "if temperature > 30:\n",
    "    print(\"il fait chaud\")"
   ]
  },
  {
   "cell_type": "code",
   "execution_count": 8,
   "id": "cfa73e6e",
   "metadata": {},
   "outputs": [
    {
     "name": "stdout",
     "output_type": "stream",
     "text": [
      "veuillez saisir un nombre50\n"
     ]
    },
    {
     "ename": "TypeError",
     "evalue": "'>' not supported between instances of 'str' and 'int'",
     "output_type": "error",
     "traceback": [
      "\u001b[1;31m---------------------------------------------------------------------------\u001b[0m",
      "\u001b[1;31mTypeError\u001b[0m                                 Traceback (most recent call last)",
      "Cell \u001b[1;32mIn[8], line 3\u001b[0m\n\u001b[0;32m      1\u001b[0m \u001b[38;5;66;03m# décision simple (par une décision)\u001b[39;00m\n\u001b[0;32m      2\u001b[0m temperature \u001b[38;5;241m=\u001b[39m \u001b[38;5;28minput\u001b[39m(\u001b[38;5;124m\"\u001b[39m\u001b[38;5;124mveuillez saisir un nombre\u001b[39m\u001b[38;5;124m\"\u001b[39m)\n\u001b[1;32m----> 3\u001b[0m \u001b[38;5;28;01mif\u001b[39;00m temperature \u001b[38;5;241m>\u001b[39m \u001b[38;5;241m30\u001b[39m:\n\u001b[0;32m      4\u001b[0m     \u001b[38;5;28mprint\u001b[39m(\u001b[38;5;124m\"\u001b[39m\u001b[38;5;124mil fait chaud\u001b[39m\u001b[38;5;124m\"\u001b[39m)\n",
      "\u001b[1;31mTypeError\u001b[0m: '>' not supported between instances of 'str' and 'int'"
     ]
    }
   ],
   "source": [
    "# décision simple (par une décision)\n",
    "temperature = input(\"veuillez saisir un nombre\")\n",
    "if temperature > 30:\n",
    "    print(\"il fait chaud\")"
   ]
  },
  {
   "cell_type": "code",
   "execution_count": 9,
   "id": "3d371726",
   "metadata": {},
   "outputs": [
    {
     "data": {
      "text/plain": [
       "str"
      ]
     },
     "execution_count": 9,
     "metadata": {},
     "output_type": "execute_result"
    }
   ],
   "source": [
    "type (temperature)"
   ]
  },
  {
   "cell_type": "code",
   "execution_count": 11,
   "id": "00e6cb9b",
   "metadata": {},
   "outputs": [
    {
     "name": "stdout",
     "output_type": "stream",
     "text": [
      "veuillez saisir un nombre50\n",
      "il fait chaud\n"
     ]
    }
   ],
   "source": [
    "# décision simple (par une décision)\n",
    "temperature = float(input(\"veuillez saisir un nombre\"))\n",
    "if temperature > 30:\n",
    "    print(\"il fait chaud\")"
   ]
  },
  {
   "cell_type": "code",
   "execution_count": 12,
   "id": "b6763b4c",
   "metadata": {},
   "outputs": [
    {
     "name": "stdout",
     "output_type": "stream",
     "text": [
      "veuillez saisir la temperature29\n",
      "il fait froid\n"
     ]
    }
   ],
   "source": [
    "# décision avec alternative (Else) (avec deux décision )\n",
    "temperature = int(input(\"veuillez saisir la temperature\"))\n",
    "if temperature > 30:\n",
    "    print(\"il fait chaud\")\n",
    "else:\n",
    "    print(\"il fait froid\")"
   ]
  },
  {
   "cell_type": "code",
   "execution_count": 16,
   "id": "a9e5dbb6",
   "metadata": {},
   "outputs": [
    {
     "name": "stdout",
     "output_type": "stream",
     "text": [
      "veuillez saisir votre note80\n",
      "A améliores\n"
     ]
    }
   ],
   "source": [
    "# décision avec multiples alternatives (Elif)\n",
    "note = input(\"veuillez saisir votre note\")\n",
    "if note == \"A\" :\n",
    "    print(\"Excellent\")\n",
    "elif note == \"B\" :\n",
    "    print(\"Bien\")\n",
    "elif note == \"C\" :\n",
    "    print(\"Moyen\")  \n",
    "else:\n",
    "    print(\"A améliores\")"
   ]
  },
  {
   "cell_type": "code",
   "execution_count": 24,
   "id": "f7425b5c",
   "metadata": {},
   "outputs": [
    {
     "name": "stdout",
     "output_type": "stream",
     "text": [
      "veuillez saisir votre note17\n",
      "veuillez saisir age18\n",
      "bourse acceptée\n"
     ]
    }
   ],
   "source": [
    "# Conditions multiples conditions\n",
    "\n",
    "note = float(input(\"veuillez saisir votre note\"))\n",
    "age = float(input(\"veuillez saisir age\"))\n",
    "\n",
    "if (note >=16 ) & (age <=20):\n",
    "    print(\"bourse acceptée\")\n",
    "else: \n",
    "    print(\"pas de bourse\")"
   ]
  },
  {
   "cell_type": "markdown",
   "id": "a43ac11c",
   "metadata": {},
   "source": [
    "**Objectif :** \n",
    "Développer une fonction `classer_age` en Python qui détermine la catégorie d'âge d'une personne à partir de son âge.\n",
    "\n",
    "**Instructions :**\n",
    "1. La fonction `classer_age` doit accepter un seul argument numérique, `age`, qui représente l'âge de la personne en années.\n",
    "2. La fonction doit retourner une chaîne de caractères selon l'âge :\n",
    "   - Retourner `\"Enfant\"` si l'âge est inférieur à 12 ans.\n",
    "   - Retourner `\"Adolescent\"` si l'âge est entre 12 et 17 ans inclus.\n",
    "   - Retourner `\"Adulte\"` si l'âge est entre 18 et 59 ans inclus.\n",
    "   - Retourner `\"Senior\"` si l'âge est de 60 ans ou plus.\n",
    "3. Si l'âge est inférieur à 0 ou n'est pas un nombre valide, la fonction doit retourner `\"Âge invalide\"`."
   ]
  },
  {
   "cell_type": "code",
   "execution_count": 3,
   "id": "c07391e1",
   "metadata": {},
   "outputs": [],
   "source": [
    "def classer_age(x):\n",
    "    \n",
    "    if (x <= 12) & (x >=0) :\n",
    "        resultat = \"Enfant\"\n",
    "    elif (x > 12) & (x <= 17):\n",
    "        resultat =  \" Adolescent\"\n",
    "    elif (x >= 18) & (x <= 59):\n",
    "        resultat =  \" Adulte\"\n",
    "    elif (x >= 60) :\n",
    "        resultat =  \" Senior\"\n",
    "    else:\n",
    "        resultat = \"Age invalide\"\n",
    "        \n",
    "    return resultat"
   ]
  },
  {
   "cell_type": "code",
   "execution_count": null,
   "id": "39a6505e",
   "metadata": {},
   "outputs": [],
   "source": []
  }
 ],
 "metadata": {
  "kernelspec": {
   "display_name": "Python 3 (ipykernel)",
   "language": "python",
   "name": "python3"
  },
  "language_info": {
   "codemirror_mode": {
    "name": "ipython",
    "version": 3
   },
   "file_extension": ".py",
   "mimetype": "text/x-python",
   "name": "python",
   "nbconvert_exporter": "python",
   "pygments_lexer": "ipython3",
   "version": "3.11.5"
  }
 },
 "nbformat": 4,
 "nbformat_minor": 5
}
